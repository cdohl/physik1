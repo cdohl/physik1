{
 "cells": [
  {
   "cell_type": "markdown",
   "metadata": {},
   "source": [
    "## 2. Physikalische Größen und Einheiten\n",
    "* Zur Beschreibung von Naturgesetzen\n",
    "  Physikalische Größen G\n",
    "* Produkt aus dem Zahlenwer {G} und einer Einheit [G]\n",
    "$$G=\\{G\\}\\cdot[G]$$\n",
    "\n",
    "* Unterscheidung in skalare (ungerichtete) Größen G: z.B. Temperatur T\n",
    "  und in vektorielle (gerichtete) Größen $\\vec{G}$: z.B. Kraft $\\vec{F}$ "
   ]
  },
  {
   "cell_type": "markdown",
   "metadata": {},
   "source": [
    "### Die sieben SI-Basiseinheiten:\n",
    "\n",
    "(SI -- Systéme International d'Unités)\n",
    "\n",
    "* das Meter (m) als Einheit der Länge\n",
    "* das Kilogramm (kg) als Einheit der Masse\n",
    "* die Sekunde (s) als Einheit der Zeit\n",
    "* das Ampere (A) als Einheit der elektrischen Stromstärke\n",
    "* das Kelvin (K) als Einheit der thermodynamischen Temperatur\n",
    "* das Mol (mol) als Einheit der Stoffmenge\n",
    "* die Candela (cd) als Einheit der Lichtstärke\n",
    "\n",
    "\n",
    "* Naturkonstanten\n",
    "\n",
    "* Abgeleitete Größen\n",
    "\n",
    " z.B. für Energie $1\\,$J = $1\\,$W$\\cdot$s = $1\\,$V$\\cdot$A$\\cdot$s = $1\\,$kg$\\cdot$m$^2\\cdot$s$^{-2}$"
   ]
  }
 ],
 "metadata": {
  "kernelspec": {
   "display_name": "Python 2",
   "language": "python",
   "name": "python2"
  },
  "language_info": {
   "codemirror_mode": {
    "name": "ipython",
    "version": 2
   },
   "file_extension": ".py",
   "mimetype": "text/x-python",
   "name": "python",
   "nbconvert_exporter": "python",
   "pygments_lexer": "ipython2",
   "version": "2.7.14"
  }
 },
 "nbformat": 4,
 "nbformat_minor": 2
}
