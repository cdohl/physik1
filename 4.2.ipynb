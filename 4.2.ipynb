{
 "cells": [
  {
   "cell_type": "markdown",
   "metadata": {},
   "source": [
    "### 4.2 Freier Fall\n",
    "\n",
    "#### 4.2.1 Unabhängigkeit der Masse\n",
    "\n",
    "Wenden wir das 2. Newtonsche Gesetz auf einen Körper an, auf den nur die Erdbeschleunigung wirkt, d.h. keine Normalkraft hindert den Körper am Fallen, dann ist \n",
    "\n",
    "\n",
    "$$\\sum F = m\\,a$$\n",
    "$$m\\,g=m\\,a$$\n",
    "$$a=g$$\n",
    "\n",
    "Die Beschleunigung eines Körpers ist unabhängig von dessen Masse."
   ]
  },
  {
   "cell_type": "code",
   "execution_count": 2,
   "metadata": {
    "hide_input": true
   },
   "outputs": [
    {
     "data": {
      "text/html": [
       "<iframe width=\"560\" height=\"315\" src=\"https://www.youtube.com/embed/E43-CfukEgs?rel=0&amp;showinfo=0\" frameborder=\"0\" allowfullscreen></iframe>"
      ],
      "text/plain": [
       "<IPython.core.display.HTML object>"
      ]
     },
     "execution_count": 2,
     "metadata": {},
     "output_type": "execute_result"
    }
   ],
   "source": [
    "from IPython.display import HTML\n",
    "\n",
    "# Youtube\n",
    "HTML('<iframe width=\"560\" height=\"315\" src=\"https://www.youtube.com/embed/E43-CfukEgs?rel=0&amp;showinfo=0\" frameborder=\"0\" allowfullscreen></iframe>')\n"
   ]
  },
  {
   "cell_type": "markdown",
   "metadata": {},
   "source": [
    "##### 4.2.2 Im beschleunigten Bezugssystem\n",
    "\n",
    "Das Gewicht eines Körpers ist die Kraft die der Körper im Kontakt mit der Waage auf diese ausübt. Also ist ein Gewicht von $981\\,$N die Kraft die ein Körper mit $100\\,$kg Masse auf eine Waage ausübt. Im Prinzip besteht die Waage besteht aus einer Feder, die eine so starke Kraft ausübt, dass das Gewicht zur Ruhe kommt. Im Volksmund und auf Waagen wird das Gewicht nicht in Newton, sondern in Kilogramm angegeben. Wie Sie unten sehen werden macht diese Konvention nur auf der Erde und in eimem unbeschleunigten Bezugssytsem wirklich Sinn.\n",
    "\n",
    "<img src=\"figures/4.2_1.png\" width=550px>\n",
    "\n",
    "In obiger Abbildung zeigt die Federkraft der Waage das Gewicht des Körpers an. Diese Anzeige ist das Gewicht des Körpers. Wie ändert sich das Gewicht?\n",
    "\n",
    "*Links:*\n",
    "\n",
    "Die Waage ist in einem Inertialsystem, daher ist $F_W=m\\,g$. \n",
    "\n",
    "*Mitte:*\n",
    "\n",
    "Die Waage ist in einem Fahrstuhl, der nach oben (entgegengesetzt zur Erdbeschleunigung) beschleunigt wird. Von aussen (im Inertialsystem) betrachtet benutzen wir das 2. Newtonsche Gesetz und erhalten, dass die Waage eine Kraft von $F_W=m(g+a)$ anzeigt, also ein erhöhtes Gewicht. Wir fühlen uns in einem sich von der Erde entgegengesetzt beschleunigten Fahrstuhl schwerer.\n",
    "\n",
    "*Rechts:*\n",
    "\n",
    "Der Fahrstuhl wird nach unten (in Richtung der Erdbeschleunigung) beschleunigt. Dann ist die Gewichtskraft $F_W=m(g-a)$. Der Körper wird leichter. Wird der Fahrstuhl mit $g$ nach unten beschleunigt, d.h. der Fahrstuhl ist im freien Fall, dann zeigt die Waage keine Gewichtskraft mehr an. Der Körper ist schwerelos.  "
   ]
  },
  {
   "cell_type": "markdown",
   "metadata": {},
   "source": [
    "##### 4.2.3 Atwoodsche Fallmaschine\n",
    "\n",
    "<img src=\"figures/4.2_2.png\" width=250px>\n",
    "\n",
    "An einem massenlosen Seil sind zwei Gewichte angebracht. Das Seil liegt auf einer masselosen und reibungsfreien Rolle. Wir wollen die Beschleunigung der Massen $m_1$ und $m_2$ bestimmen. Dazu zeichnen wir Freikörperbilder der beiden Massen und bestimmen die angreifenden Kräfte und Beschleunigungen.\n",
    "\n",
    "*Linker Teil des Seiles*\n",
    "\n",
    "$$T-m_1\\,g=m_1\\,a$$\n",
    "\n",
    "$$T=m_1(a+g)$$\n",
    "\n",
    "*Rechter Teil des Seiles*\n",
    "\n",
    "$$m_2\\,g-T=m_2\\,a$$\n",
    "\n",
    "$$T=m_2(g-a)$$\n",
    "\n",
    "Und wir erhalten aus den beiden Gleichungen nach kurzer Rechnung die beiden Unbekannten:\n",
    "\n",
    "$$a=\\frac{m_2-m_1}{m_1+m_2}\\,g$$\n",
    "\n",
    "$$T=\\frac{2 m_1 \\, m_2}{m_1+m_2}\\,g$$"
   ]
  }
 ],
 "metadata": {
  "kernelspec": {
   "display_name": "Python [default]",
   "language": "python",
   "name": "python2"
  },
  "language_info": {
   "codemirror_mode": {
    "name": "ipython",
    "version": 2
   },
   "file_extension": ".py",
   "mimetype": "text/x-python",
   "name": "python",
   "nbconvert_exporter": "python",
   "pygments_lexer": "ipython2",
   "version": "2.7.14"
  }
 },
 "nbformat": 4,
 "nbformat_minor": 2
}
