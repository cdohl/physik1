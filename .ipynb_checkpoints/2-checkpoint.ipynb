{
 "cells": [
  {
   "cell_type": "markdown",
   "metadata": {},
   "source": [
    "## 2. Physikalische Größen und Einheiten\n",
    "* Zur Beschreibung von Naturgesetzen\n",
    "  Physikalische Größen G\n",
    "* Produkt aus dem Zahlenwert {G} und einer Einheit [G]\n",
    "$$G=\\{G\\}\\cdot[G]$$\n",
    "\n",
    "* Unterscheidung in skalare (ungerichtete) Größen G: z.B. Temperatur T\n",
    "  und in vektorielle (gerichtete) Größen $\\vec{G}$: z.B. Kraft $\\vec{F}$ "
   ]
  },
  {
   "cell_type": "markdown",
   "metadata": {},
   "source": [
    "### Die sieben SI-Basiseinheiten:\n",
    "\n",
    "(SI -- Systéme International d'Unités)\n",
    "\n",
    "* das Meter (m) als Einheit der Länge \\[L\\]\n",
    "* das Kilogramm (kg) als Einheit der Masse \\[M\\]\n",
    "* die Sekunde (s) als Einheit der Zeit \\[T\\]\n",
    "\n",
    "* das Ampere (A) als Einheit der elektrischen Stromstärke\n",
    "* das Kelvin (K) als Einheit der thermodynamischen Temperatur\n",
    "* das Mol (mol) als Einheit der Stoffmenge\n",
    "* die Candela (cd) als Einheit der Lichtstärke\n",
    "\n",
    "\n",
    "* Naturkonstanten\n",
    "\n",
    "* Beispiele für Abgeleitete Größen\n",
    "\n",
    " \n",
    " $$\n",
    " \\mathrm{[Geschwindigkeit]}=\\frac{[\\mathrm{L}]}{[\\mathrm{T}]}\n",
    " $$\n",
    " \n",
    " $$\n",
    " [\\mathrm{Volumen}]=[\\mathrm{L}]^3\n",
    " $$\n",
    " \n",
    " $$\n",
    " [\\mathrm{Dichte}]=\\frac{[\\mathrm{M}]}{[\\mathrm{L}]^3}\n",
    " $$\n",
    " \n",
    " $$\n",
    " [\\mathrm{Beschleunigung}]=\\frac{[\\mathrm{L}]}{[\\mathrm{T}]^2}\n",
    " $$\n",
    " "
   ]
  },
  {
   "cell_type": "markdown",
   "metadata": {},
   "source": [
    "### Grössenordnungen"
   ]
  },
  {
   "cell_type": "code",
   "execution_count": 7,
   "metadata": {
    "hide_input": true
   },
   "outputs": [
    {
     "data": {
      "image/jpeg": "[encoded data removed]",
      "text/html": [
       "\n",
       "        <iframe\n",
       "            width=\"400\"\n",
       "            height=\"300\"\n",
       "            src=\"https://www.youtube.com/embed/jfSNxVqprvM\"\n",
       "            frameborder=\"0\"\n",
       "            allowfullscreen\n",
       "        ></iframe>\n",
       "        "
      ],
      "text/plain": [
       "<IPython.lib.display.YouTubeVideo at 0x10f4b7810>"
      ]
     },
     "execution_count": 7,
     "metadata": {},
     "output_type": "execute_result"
    }
   ],
   "source": [
    "from IPython.lib.display import YouTubeVideo\n",
    "YouTubeVideo('jfSNxVqprvM')  "
   ]
  },
  {
   "cell_type": "markdown",
   "metadata": {},
   "source": [
    "### Dimensionssanalyse\n",
    "\n",
    "Nachfolgendes Beispiel soll kein umfassende Einführug in die Dimensionsanalyse sein, sondern an einem einfachen Beispiel zeigen, dass physikalische Gesetze sich bereits aus der Einheiten der beteiligten Grössen ableiten lassen.\n",
    "Wir wollen die Fallzeit $t$ von einem Apfel von einer Höhe $h$ bestimmen.  \n",
    "Die Fallzeit $t$ für ein Objekt kann von verschiedenen Grössen abhängen, z.B.\n",
    "\n",
    "* Höhe $h$\n",
    "* Masse $m$\n",
    "* Erdbeschleunigung $g$\n",
    "\n",
    "Nun betrachten und vergleichen wir die Einheiten der Größen $h,m,\\mathrm{und}\\,g$ \n",
    "mit der Fallzeit $t$\n",
    "\n",
    "\n",
    "$$t\\propto h^\\alpha \\, m^\\beta \\, g^\\gamma \\tag{2.1}$$\n",
    "\n",
    "Wobei wir die Konstanten $\\alpha, \\beta, \\gamma$ zu bestimmen haben. Dabei hilft uns die Tatsache, dass die Gleichung (2.1) die richtige Dimension auf beiden Seiten haben muss.\n",
    "\n",
    "\n",
    "$$[\\mathrm{T}^1]\\propto [\\mathrm{L}]^\\alpha\\,[\\mathrm{M}]^\\beta\\,\\frac{[\\mathrm{L}]^\\gamma}{[\\mathrm{T}]^{2\\gamma}}\n",
    "$$\n",
    "\n",
    "Wir finden sofort, dass $\\beta=0$ und dass $\\alpha+\\gamma=0$ ist. Zuätzlich ist $1=\\alpha-2\\gamma$, und damit ist $\\gamma=-1/2$ und $\\alpha=1/2$.\n",
    "\n",
    "Fügen wir diese Konstanen in Gleichung (2.1) ein erhalten wir:\n",
    "\n",
    "$$t=C \\sqrt{\\frac{h}{g}}\\quad.\\tag{2.2}$$\n",
    "\n",
    "Die Konstante C kennen wir nicht, aber wir können bereits die wichtige Aussage machen, dass die Fallzeit nicht von der Masse $m$ des Apfels abhängen kann.\n"
   ]
  },
  {
   "cell_type": "code",
   "execution_count": null,
   "metadata": {},
   "outputs": [],
   "source": []
  }
 ],
 "metadata": {
  "kernelspec": {
   "display_name": "Python [default]",
   "language": "python",
   "name": "python2"
  },
  "language_info": {
   "codemirror_mode": {
    "name": "ipython",
    "version": 2
   },
   "file_extension": ".py",
   "mimetype": "text/x-python",
   "name": "python",
   "nbconvert_exporter": "python",
   "pygments_lexer": "ipython2",
   "version": "2.7.14"
  }
 },
 "nbformat": 4,
 "nbformat_minor": 2
}
