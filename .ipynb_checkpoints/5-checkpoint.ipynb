{
 "cells": [
  {
   "cell_type": "markdown",
   "metadata": {},
   "source": [
    "# 5. Trägheitskräfte\n",
    "## 5.1 Inertialsystem\n",
    "\n",
    "Die Position des Massepunktes $m$ kann im Koordinatensystem $\\Sigma$ mit den Koordinaten $(x,y,z)$ oder im Koordinatensystem $\\sigma'$ mit den Koordinaten $(x',y',z')$ beschrieben werden.\n",
    "\n",
    "<img src=\"figures/4.3_5.png\" width=250px>\n",
    "\n",
    "Beide Koordinatensystem bewegen sich mit der Geschwindigkeit $\\vec{v}_{rel}$ voneinander weg.\n",
    "\n",
    "<b>Alle nichtbeschleunigten Koordinatensysteme heißen Inertialsysteme. Hier gelten die Newtonsche Axiome.</b> \n",
    "\n",
    "## 5.2 Geradlinig beschleunigte Bezugssysteme\n",
    "\n",
    "d.h. $\\Sigma'$ wird gegenüber $\\sigma$ beschleunigt ⇒ $\\vec{v}_{rel}\\ne \\mathrm{konst.}$\n",
    "\n",
    "<img src=\"figures/4.3_6.png\" width=250px>\n",
    "\n",
    "Die Beschleunigung ist nur entlang der $x$-Richtung.\n",
    "\n",
    "$$x=x'+s\\quad y=y'\\quad z=z'$$\n",
    "\n",
    "$$\\ddot{x}=\\ddot{x'}+\\ddot{s}$$\n",
    "\n",
    "$$\\ddot{\\vec{r}}=\\ddot{\\vec{r'}}+\\ddot{\\vec{s}}$$\n",
    "\n",
    "$$\\ddot{\\vec{a}}=\\ddot{\\vec{a'}}+\\ddot{\\vec{s}}$$\n",
    "\n",
    "$$m\\ddot{\\vec{a}}=m\\ddot{\\vec{a'}}+m\\ddot{\\vec{s}}$$\n",
    "\n",
    "$$\\vec{F}=\\vec{F}'+m\\,\\ddot{\\vec{s}}$$\n",
    "\n",
    "$$\\vec{F'}=\\vec{F}\\underbrace{-m\\,\\ddot{\\vec{s}}}_{\\vec{F}_T~\\mathrm{Trägheitskraft}}$$\n",
    "\n",
    "$$\\vec{F}_T=-m \\ddot{\\vec{s}}$$\n",
    "\n",
    "Im beschleunigten Koordinatensystem wirkt die Trägheitskraft in entgegengesetzer Richtung zum Beschleunigungsvektor. Damit erklärt sich, warum wir im freien Fall keine Kraft spüren: die Gravitationskraft und die Trägheitskraft heben sich genau auf.\n",
    "\n",
    "\n",
    "## 5.3 Rotierende Bezugssyteme\n",
    "\n",
    "### 5.3.1 Zentrifugalkraft\n",
    "\n"
   ]
  },
  {
   "cell_type": "code",
   "execution_count": null,
   "metadata": {},
   "outputs": [],
   "source": []
  }
 ],
 "metadata": {
  "kernelspec": {
   "display_name": "Python [default]",
   "language": "python",
   "name": "python2"
  },
  "language_info": {
   "codemirror_mode": {
    "name": "ipython",
    "version": 2
   },
   "file_extension": ".py",
   "mimetype": "text/x-python",
   "name": "python",
   "nbconvert_exporter": "python",
   "pygments_lexer": "ipython2",
   "version": "2.7.14"
  }
 },
 "nbformat": 4,
 "nbformat_minor": 2
}
