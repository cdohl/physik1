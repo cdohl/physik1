{
 "cells": [
  {
   "cell_type": "markdown",
   "metadata": {},
   "source": [
    "### Inhaltlich zu Übungen\n",
    "* alle 14-tägigen-Übungen (1SWS) gleichwertig, ebenso die wöchentlichen mit 2SWS (WMB, WVET, ETIT, STK, EM, MDT, SPTE und BB)\n",
    "* Homepage für Physik 1 ist http://hydra.nat.uni-magdeburg.de/ing\n",
    "  * Info zu Übungen, Tutorium, Physikalisches Praktikum, und Hinweise zur Prüfungsklausur\n",
    "* Übungsserien http://hydra.nat.uni-magdeburg.de/ing/u.html\n",
    "* Pflichtaufagben und Kürprogramm, alle aus Stroppe (2016) mit gleicher Nummerierung der Aufgaben entnommen\n",
    "* sechs Serien, bei 14-tägigen Übungen eine Serie pro Übung (Pflichtaufgaben), sonst Pflichtaufgaben und Teil des Kürprogramms\n",
    "* Vorlesung und Übungen sind nicht immer synchron\n",
    "* Tutorium Freitag 13-15 Uhr im G02-111\n",
    "\n",
    "### Organisatorisches zu Übungen\n",
    "* alle im LSF ausgewiesenen Übungen finden statt (auch wenn vor der Vorlesung)\n",
    "* Studierenden müssen sich in Übungsliste eintragen (Anwesenheitskontrolle)\n",
    "* Umverteilung wenn ungleichmäßig ausgelastet\n",
    "* Individualle Leistung muss erbracht werden (Vorrechnen an Tafel, Bestehen eines schriftlichen Tests)\n",
    "* Handhabung bleibt Übungsgruppenleiter überlassen\n",
    "* kein Übungsschein, nur interner Vermerk wer zugelassen wird\n",
    "\n",
    "\n",
    "### Prüfungsklausuren\n",
    "* 180 Minuten, sowohl im Wintersemester (18.2.2019) als auch im Sommersemester (Ende Juli/Anfang August)\n",
    "* BSYT sind mit Praktikum und Klausur um ein Semester verschoben zu den anderen Studiengaängen.\n",
    "* notwendige Voraussetzung zur Klausur ist das erfolgreiche Abschneiden im Physikalischen Praktikum und Übung"
   ]
  }
 ],
 "metadata": {
  "kernelspec": {
   "display_name": "Python [default]",
   "language": "python",
   "name": "python2"
  },
  "language_info": {
   "codemirror_mode": {
    "name": "ipython",
    "version": 2
   },
   "file_extension": ".py",
   "mimetype": "text/x-python",
   "name": "python",
   "nbconvert_exporter": "python",
   "pygments_lexer": "ipython2",
   "version": "2.7.14"
  }
 },
 "nbformat": 4,
 "nbformat_minor": 2
}
