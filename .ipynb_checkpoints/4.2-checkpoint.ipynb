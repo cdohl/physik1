{
 "cells": [
  {
   "cell_type": "markdown",
   "metadata": {},
   "source": [
    "### 4.2 Freier Fall\n",
    "\n",
    "#### 4.2.1 Unabhängigkeit der Masse\n",
    "\n",
    "Wenden wir das 2. Newtonsche Gesetz auf einen Körper auf den nur die Erdbeschleunigung wirkt, d.h. keine Normalkraft hindert den Körper am Fallen. Dann ist \n",
    "\n",
    "\n",
    "$$\\sum F = m\\,a$$\n",
    "$$m\\,g=m\\,a$$\n",
    "$$a=g$$\n",
    "\n",
    "Die Beschleunigung eines Körpers ist unabhängig von dessen Masse.\n",
    "\n",
    "##### 4.2.2 Im beschleunigtem Bezugssytsem\n",
    "\n",
    "Das Gewicht eines Körpers ist die Kraft die der Körper im Kontakt mit der Waage auf diese ausübt. Also ist ein Gewicht von $981\\,$N die Kraft die ein Körper mit $100\\,$kg Masse auf eine Waage ausübt. Im Prinzip besteht die Waage besteht aus einer Feder, die eine so starke Kraft ausübt, dass das Gewicht zur Ruhe kommt. Im Volksmund und auf Waagen wird das Gewicht nicht in Newton, sonder in Kilogramm angegeben. Diese Konvention macht aber nur auf der Erde in eimem unbeschleunigten Bezugssytsem Sinn.\n",
    "\n",
    "<img src=\"figures/4.2_1.png\" width=550px>\n",
    "\n",
    "\n",
    "\n",
    "\n"
   ]
  },
  {
   "cell_type": "code",
   "execution_count": null,
   "metadata": {},
   "outputs": [],
   "source": []
  }
 ],
 "metadata": {
  "kernelspec": {
   "display_name": "Python [default]",
   "language": "python",
   "name": "python2"
  },
  "language_info": {
   "codemirror_mode": {
    "name": "ipython",
    "version": 2
   },
   "file_extension": ".py",
   "mimetype": "text/x-python",
   "name": "python",
   "nbconvert_exporter": "python",
   "pygments_lexer": "ipython2",
   "version": "2.7.14"
  }
 },
 "nbformat": 4,
 "nbformat_minor": 2
}
