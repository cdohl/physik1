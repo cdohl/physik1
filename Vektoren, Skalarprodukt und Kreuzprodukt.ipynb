{
 "cells": [
  {
   "cell_type": "markdown",
   "metadata": {},
   "source": [
    "### Vektoraddition\n",
    "\n",
    "Stellen Sie sich vor, Sie stehen auf einem Tisch an Position $O$ und bewegen sich auf Punkt $P$ zu. Gleichzeitig bewegt jemand den Tisch entlang des roten Pfeils. Welche Position nehmen Sie im Raum ein? \n",
    "\n",
    "<img src=\"figures/mathe_1.png\" alt=\"mathe_1\" style=\"width: 650px;\"/>\n",
    "\n",
    "Auf dem Tisch ändert sich nichts, Sie bleiben auf Position $P$, aber im Raum hat sich der Tisch bewegt. Ihre Position im Raum ist die Addition der Bewegungen des Tisches und Ihrer auf dem Tisch. Ihre Position im Raum ist $S$. Dies wird durch die Vektoraddition beschrieben.\n",
    "\n",
    "$$\\vec{OS}=\\vec{OP}+\\vec{PS}$$\n",
    "\n",
    "\n",
    "\n"
   ]
  },
  {
   "cell_type": "markdown",
   "metadata": {},
   "source": [
    "Graphisch kann die Addition von zwei Vektoren $\\vec{A}$ und $\\vec{B}$ über das Verschieben des Vektors $\\vec{B}$ auf das Ende von Vektor $\\vec{A}$ durchgeführt werden. Es kann aber auch ein Parallelogram konstruiert werden.\n",
    "\n",
    "$$\\vec{C}=\\vec{A}+\\vec{B}$$\n",
    "\n",
    "\n",
    "<img src=\"figures/mathe_2.png\" alt=\"mathe_2\" style=\"width: 650px;\"/>"
   ]
  },
  {
   "attachments": {},
   "cell_type": "markdown",
   "metadata": {},
   "source": [
    "### Vektorsubtraktion\n",
    "\n",
    "Ein negativen Vektor kann man so einführen:\n",
    "\n",
    "$$\\vec{A}-\\vec{A}=0$$\n",
    "\n",
    "<img src=\"figures/mathe_3.png\" alt=\"mathe_3\" style=\"width: 150px;\"/>\n",
    "\n",
    "Dies ist der gleiche Vektor wie $\\vec{A}$ nur mit umgedrehter Richtung. "
   ]
  },
  {
   "cell_type": "code",
   "execution_count": null,
   "metadata": {},
   "outputs": [],
   "source": []
  }
 ],
 "metadata": {
  "kernelspec": {
   "display_name": "Python [default]",
   "language": "python",
   "name": "python2"
  },
  "language_info": {
   "codemirror_mode": {
    "name": "ipython",
    "version": 2
   },
   "file_extension": ".py",
   "mimetype": "text/x-python",
   "name": "python",
   "nbconvert_exporter": "python",
   "pygments_lexer": "ipython2",
   "version": "2.7.14"
  }
 },
 "nbformat": 4,
 "nbformat_minor": 2
}
