{
 "cells": [
  {
   "cell_type": "markdown",
   "metadata": {},
   "source": [
    "## 7. Dynamik von Punktmassensystemen\n",
    "### 7.1 Impulserhaltungssatz\n",
    "\n",
    "Der Impuls eines Körpers ist \n",
    "\n",
    "$$\\vec{p}=m\\,\\vec{v}$$\n",
    "\n",
    "und die Einheit ist $\\left[p\\right]$=kg m s$^{-1}$.\n",
    "\n",
    "\n",
    "Für eine Impulsänderung muss eine Kraft wirken:\n",
    "\n",
    "$$\\vec{F}=m\\,\\vec{a}=m\\,\\frac{\\mathrm{d}\\vec{v}}{\\mathrm{d}t}=\\frac{\\mathrm{d}\\left(m\\,\\vec{v}\\right)}{\\mathrm{d}t}=\n",
    "\\frac{\\mathrm{d}\\vec{p}}{\\mathrm{d}t}$$\n",
    "\n",
    "D.h. wenn keine Kraft auf einen Körper wirkt bleibt der Impuls konstant. Wir können den Impulsbegriff auf ein Gesamtsystem erweitern. Der Gesamtimpuls ergibt sich aus der Verktoraddition der Einzelpulse $\\vec{p}_i$, also\n",
    "\n",
    "$$\\vec{p}_{ges}=\\sum_i \\vec{p}_i=\\sum_i m_i\\vec{v}_i$$\n",
    "\n",
    "Dort gilt:\n",
    "\n",
    "<b> In einem abgeschlossenen System in dem nur innere Kräfte wirken, bleibt der Gesamtimpuls $p_{ges}$ ungeaändert.</b>\n",
    "\n",
    "Inner Kräfte sind die Kräfte zwischen den Körpern des Gesamtsystems. Äussere Kräfte wirken von aussen auf das System. "
   ]
  },
  {
   "cell_type": "code",
   "execution_count": null,
   "metadata": {},
   "outputs": [],
   "source": []
  }
 ],
 "metadata": {
  "kernelspec": {
   "display_name": "Python [default]",
   "language": "python",
   "name": "python2"
  },
  "language_info": {
   "codemirror_mode": {
    "name": "ipython",
    "version": 2
   },
   "file_extension": ".py",
   "mimetype": "text/x-python",
   "name": "python",
   "nbconvert_exporter": "python",
   "pygments_lexer": "ipython2",
   "version": "2.7.14"
  }
 },
 "nbformat": 4,
 "nbformat_minor": 2
}
