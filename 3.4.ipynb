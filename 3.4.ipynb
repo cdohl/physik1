{
 "cells": [
  {
   "cell_type": "markdown",
   "metadata": {},
   "source": [
    "### 3.4 Zusammengesetze Bewegung\n",
    "\n",
    "Am Beispiel der Wurfparabel\n",
    "\n",
    "* Superposition: Ungestörte Überlagerung von zwei Bewegungen parallel zu $\\vec{e}_x$ und parallel zu $\\vec{e}_z$.\n",
    "\n",
    "* Zum Zeitpunkt $t=0$ \n",
    "\n",
    "  <img src=\"figures/3.4_1.png\" width=\"260\">\n",
    "  \n",
    "  \n",
    "  $$v_{z,0}=v_0\\,\\sin\\beta$$\n",
    "  $$v_{x,0}=v_0\\,\\cos\\beta$$\n",
    "  $$v_0=\\left|\\vec{v}_0\\right|$$\n",
    "  \n",
    "Das Ergebnis der Bewegung ist in der untenstehenden Abbildung gezeigt:"
   ]
  },
  {
   "cell_type": "code",
   "execution_count": 76,
   "metadata": {
    "hide_input": true
   },
   "outputs": [
    {
     "data": {
      "image/png": "[encoded data removed]",
      "text/plain": [
       "<matplotlib.figure.Figure at 0x10f74a450>"
      ]
     },
     "metadata": {},
     "output_type": "display_data"
    }
   ],
   "source": [
    "%matplotlib inline\n",
    "import matplotlib.pyplot as plt\n",
    "import numpy as np\n",
    "import matplotlib as mpl\n",
    "import matplotlib.patches as patches\n",
    "mpl.rcParams['font.size'] = 15\n",
    "\n",
    "g=9.81\n",
    "vx0=3.\n",
    "vz0=3.\n",
    "H=.3\n",
    "#Zeit variable\n",
    "x=np.linspace(0,2.1,100)\n",
    "#Gleichung\n",
    "z=-g/2*x**2/vx0**2+vz0/vx0*x+H\n",
    "\n",
    "plt.figure(1, figsize=(8, 4))\n",
    "ax=plt.gca()\n",
    "plt.plot(x,z)\n",
    "ax.axhline(color='k',linewidth=1);ax.axvline(color='k',linewidth=1)\n",
    "ax.set_xlabel('x');ax.set_ylabel('z');\n",
    "ax.set_xticks([]);ax.set_yticks([])\n",
    "ax.spines['top'].set_visible(False);ax.spines['right'].set_visible(False)\n",
    "ax.spines['bottom'].set_visible(False);ax.spines['left'].set_visible(False)\n",
    "#unit vectors\n",
    "ax.arrow(0., 0., .35, 0, lw=1., fc='k', ec='k', head_width=.05, head_length=.05, length_includes_head=True)\n",
    "ax.arrow(0., 0., 0, .25, lw=1., fc='k', ec='k', head_width=.05, head_length=.05, length_includes_head=True)\n",
    "ax.text(0.1,-0.1,r'$\\vec{e}_x$');ax.text(-0.1,0.1,r'$\\vec{e}_z$')\n",
    "#velocity vector\n",
    "ss=.1\n",
    "ax.arrow(0., H, vx0*ss, vz0*ss, lw=1., fc='k', ec='k', head_width=.05, head_length=.05, length_includes_head=True)\n",
    "plt.plot([0,1.5*vx0*ss],[H,H],'k--')\n",
    "ax.text(vx0*ss,H+vz0*ss*1.1,r'$\\vec{v}_0$');\n",
    "#angle\n",
    "arc = patches.Arc((0.,H), vx0*ss*1.5, vz0*ss*1.5, 1.,0.,np.arctan2(vx0,vz0)*180./np.pi,linewidth=2.)\n",
    "ax.add_patch(arc)\n",
    "ax.text(vx0*ss*.3,H+vz0*ss*.1,r'$\\beta$')\n",
    "plt.show()"
   ]
  },
  {
   "cell_type": "markdown",
   "metadata": {
    "hide_input": false
   },
   "source": [
    "Herleitung der Wurftrajektorie\n",
    "\n",
    "Die Beschleunigung in $z$ und $x$-Richtung: \n",
    "\n",
    "$$a_z(t)=-g=\\mathrm{konst.}\\quad a_x(t)=0\\quad.$$\n",
    "\n",
    "Die Anfangsgeschwindigkeit in $z$ und $x$-Richtung: \n",
    "\n",
    "$$v_z(t=0)=v_{z,0}\\quad v_x(t=0)=v_{x,0}\\quad.$$\n",
    "\n",
    "Die Anfangsposition:\n",
    "\n",
    "$$z(t=0)=H\\quad x(t=0)=0\\quad.$$\n",
    "\n",
    "Gleichung (3.1.1) beschreibt eine eindimensionale Bewegung mit gleichförmiger Beschleunigung. Wir setzen jetzt die Beschleunigung, Anfangsgeschwindigkeit, und Anfangsposition für die $x$ und $z$-Richtung jeweils getrennt ein:\n",
    "Zuerst für die $z$-Richtung:\n",
    "\n",
    "$$z(t)=-\\frac{g}{2} t^2+v_{z,0}\\,t+H\\tag{3.4.1}$$\n",
    "\n",
    "und nun für die $x$-Richtung:\n",
    "\n",
    "$$x(t)=v_{x,0}\\,t\\tag{3.4.2}$$\n",
    "\n",
    "Wir können mit Hilfe von Gleichtung (3.4.2) die Zeit aus Gleichung (3.4.1) entfernen und die Trajektorie $z(x)$ explizit aufschreiben. Denn nach Gleichung (3.4.2) ist $t=\\frac{x}{v_{x,0}}$ und eingesetzt in Gl. (3.4.1) erhalten wir die *Wurfparabel*:\n",
    "\n",
    "$$z(x)=-\\frac{g}{2} \\frac{x^2}{v_{x,0}^2}+\\frac{v_{z,0}}{v_{x,0}}\\,x+H\\tag{3.4.3}$$\n",
    "\n",
    "\n",
    "Wir können die Anfangsgeschwindigkeiten auch durch $v_0$ und den Winkel $\\beta$ ausdrücken:\n",
    "\n",
    "$$z(x)=-\\frac{g}{2} \\frac{x^2}{\\left(v_{0}\\,\\cos\\beta\\right)^2}+\\tan\\beta\\,x+H\\tag{3.4.4}$$\n",
    "\n",
    "Verändern Sie unten den Winkel $\\beta$ und finden Sie die Winkel bei dem die Wurfparabel die minimale und Maximale Wurfweite erreicht."
   ]
  },
  {
   "cell_type": "code",
   "execution_count": 105,
   "metadata": {
    "hide_input": true
   },
   "outputs": [
    {
     "data": {
      "application/vnd.jupyter.widget-view+json": {
       "model_id": "78e107ffeca8476fb36491f44036c51a",
       "version_major": 2,
       "version_minor": 0
      },
      "text/html": [
       "<p>Failed to display Jupyter Widget of type <code>interactive</code>.</p>\n",
       "<p>\n",
       "  If you're reading this message in the Jupyter Notebook or JupyterLab Notebook, it may mean\n",
       "  that the widgets JavaScript is still loading. If this message persists, it\n",
       "  likely means that the widgets JavaScript library is either not installed or\n",
       "  not enabled. See the <a href=\"https://ipywidgets.readthedocs.io/en/stable/user_install.html\">Jupyter\n",
       "  Widgets Documentation</a> for setup instructions.\n",
       "</p>\n",
       "<p>\n",
       "  If you're reading this message in another frontend (for example, a static\n",
       "  rendering on GitHub or <a href=\"https://nbviewer.jupyter.org/\">NBViewer</a>),\n",
       "  it may mean that your frontend doesn't currently support widgets.\n",
       "</p>\n"
      ],
      "text/plain": [
       "interactive(children=(FloatSlider(value=30.0, description=u'$\\\\beta$:', max=85.0, min=5.0, step=5.0), Output()), _dom_classes=('widget-interact',))"
      ]
     },
     "metadata": {},
     "output_type": "display_data"
    },
    {
     "data": {
      "text/plain": [
       "<matplotlib.figure.Figure at 0x10eeda490>"
      ]
     },
     "metadata": {},
     "output_type": "display_data"
    }
   ],
   "source": [
    "%matplotlib inline\n",
    "import ipywidgets as widgets\n",
    "import matplotlib.pyplot as plt\n",
    "import numpy as np\n",
    "import matplotlib as mpl\n",
    "import matplotlib.patches as patches\n",
    "mpl.rcParams['font.size'] = 15\n",
    "\n",
    "g=9.81\n",
    "v0=np.sqrt(2)*3.\n",
    "H=.3\n",
    "#Zeit variable\n",
    "\n",
    "plt.figure(1, figsize=(10, 6))\n",
    "\n",
    "def update_plot(beta):\n",
    "    x=np.linspace(0,2.1,1000)\n",
    "    betarad=beta*np.pi/180.\n",
    "    #Gleichung\n",
    "    vx0=v0*np.cos(betarad)\n",
    "    vz0=v0*np.sin(betarad)\n",
    "    \n",
    "    z=-g/2*x**2/vx0**2+vz0/vx0*x+H\n",
    "    z=z[np.where(z>0.)]\n",
    "    x=x[0:len(z)]\n",
    "    \n",
    "    ax=plt.gca()\n",
    "    plt.plot(x,z)\n",
    "    ax.axhline(color='k',linewidth=1);ax.axvline(color='k',linewidth=1)\n",
    "    ax.set_xlabel('x');ax.set_ylabel('z');\n",
    "    ax.set_xticks([]);ax.set_yticks([])\n",
    "    ax.spines['top'].set_visible(False);ax.spines['right'].set_visible(False)\n",
    "    ax.spines['bottom'].set_visible(False);ax.spines['left'].set_visible(False)\n",
    "    #unit vectors\n",
    "    ax.arrow(0., 0., .35, 0, lw=1., fc='k', ec='k', head_width=.05, head_length=.05, length_includes_head=True)\n",
    "    ax.arrow(0., 0., 0, .25, lw=1., fc='k', ec='k', head_width=.05, head_length=.05, length_includes_head=True)\n",
    "    ax.text(0.1,-0.1,r'$\\vec{e}_x$');ax.text(-0.1,0.1,r'$\\vec{e}_z$')\n",
    "    #velocity vector\n",
    "    ss=.1\n",
    "    ax.arrow(0., H, vx0*ss, vz0*ss, lw=1., fc='k', ec='k', head_width=.05, head_length=.05, length_includes_head=True)\n",
    "    plt.plot([0,1.5*vx0*ss],[H,H],'k--')\n",
    "    ax.text(vx0*ss,H+vz0*ss*1.1,r'$\\vec{v}_0$');\n",
    "    #angle\n",
    "    arc = patches.Arc((0.,H), vx0*ss*1.5, vz0*ss*1.5, 1.,0.,np.arctan2(vz0,vx0)*180./np.pi,linewidth=2.)\n",
    "    ax.add_patch(arc)\n",
    "    ax.text(vx0*ss*.3,H+vz0*ss*.1,r'$\\beta$')\n",
    "    ax.set_xlim([-0.1,2.3])\n",
    "    ax.set_ylim([-.1,1.4])\n",
    "    plt.show();\n",
    "    \n",
    "    \n",
    "tv = widgets.FloatSlider(value=30., min=5., max =85., step=5., \n",
    "                              description=r'$\\beta$:');\n",
    "widgets.interactive(update_plot, beta=tv)"
   ]
  },
  {
   "cell_type": "markdown",
   "metadata": {},
   "source": [
    "Für den Spezialfall von $H=0$ bestimmen wir nun die Wurfweite $x_w$. Beim Auftreffen ist $z=0$ in Gleichung (3.4.4) und wir formen um:\n",
    "\n",
    "$$x_x\\,\\tan\\beta=\\frac{g}{2}\\frac{x_w^2}{v_0^2\\,\\cos^2\\beta}$$\n",
    "\n",
    "$$x_w=\\frac{2\\cos^2\\beta\\,v_0^2}{g}\\,\\tan\\beta$$\n",
    "\n",
    "$$x_w=\\frac{2\\cos\\beta\\,\\sin\\beta\\,v_0^2}{g}$$\n",
    "\n",
    "Einsetzen einer trigonometrischen Identität ergibt:\n",
    "\n",
    "$$x_w=\\frac{v_0^2}{g}\\,\\sin\\left(2\\beta\\right)$$\n",
    "\n",
    "Der Winkel für die maximale Wurfweite ergibt sich aus \n",
    "\n",
    "$$\\frac{\\mathrm{d}x_w}{\\mathrm{d}\\beta}=0$$ \n",
    "\n",
    "$$\\frac{\\mathrm{d}x_w}{\\mathrm{d}\\beta}=\\frac{2\\,v_0^2}{g}\\,\\cos\\left(2\\beta\\right)=0$$\n",
    "\n",
    "$$\\cos 2\\beta=0\\quad\\rightarrow\\quad\\beta=45^{\\circ}$$\n",
    "\n"
   ]
  },
  {
   "cell_type": "code",
   "execution_count": null,
   "metadata": {
    "hide_input": true
   },
   "outputs": [],
   "source": []
  }
 ],
 "metadata": {
  "kernelspec": {
   "display_name": "Python [default]",
   "language": "python",
   "name": "python2"
  },
  "language_info": {
   "codemirror_mode": {
    "name": "ipython",
    "version": 2
   },
   "file_extension": ".py",
   "mimetype": "text/x-python",
   "name": "python",
   "nbconvert_exporter": "python",
   "pygments_lexer": "ipython2",
   "version": "2.7.14"
  }
 },
 "nbformat": 4,
 "nbformat_minor": 2
}
